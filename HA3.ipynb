{
 "cells": [
  {
   "cell_type": "code",
   "execution_count": 1,
   "id": "f34c3a56",
   "metadata": {},
   "outputs": [],
   "source": [
    "from catboost import CatBoostRanker, Pool, MetricVisualizer\n",
    "from copy import deepcopy\n",
    "import numpy as np\n",
    "import os\n",
    "import pandas as pd\n",
    "import ipywidgets"
   ]
  },
  {
   "cell_type": "markdown",
   "id": "933ce5b9",
   "metadata": {},
   "source": [
    "# Data preprocessing"
   ]
  },
  {
   "cell_type": "code",
   "execution_count": 2,
   "id": "1a2d9e69",
   "metadata": {},
   "outputs": [],
   "source": [
    "def preprocess(dataset_name):\n",
    "    with open('imat2009_' + dataset_name + '_new.txt', 'r') as original_dataset:\n",
    "        lines = original_dataset.read()\n",
    "        lines = lines.split('\\n')\n",
    "        lines.pop(-1)\n",
    "\n",
    "        with open('imat2009_' + dataset_name + '_preprocessed.csv', 'w') as processed_dataset:\n",
    "            processed_dataset.write('rel_val,')\n",
    "\n",
    "            for num in range(1, 246):\n",
    "                processed_dataset.write(str(num) + ',')\n",
    "\n",
    "            processed_dataset.write('q_id\\r\\n')\n",
    "\n",
    "            for line in lines:\n",
    "                vals = line.split()\n",
    "                features = {}\n",
    "\n",
    "                processed_dataset.write(str(vals.pop(0)) + ',')\n",
    "\n",
    "                for i in range(0, len(vals) - 2):\n",
    "                    f_id, f_val = vals[i].split(':')\n",
    "                    features[f_id] = f_val\n",
    "\n",
    "                for num in range(1, 246):\n",
    "                    processed_dataset.write(str(features.get(str(num), 0)) + ',')\n",
    "\n",
    "                processed_dataset.write(str(vals[-1]) + '\\r\\n')\n",
    "\n",
    "preprocess('train')\n",
    "preprocess('test')"
   ]
  },
  {
   "cell_type": "markdown",
   "id": "a23a395d",
   "metadata": {},
   "source": [
    "# Reading the dataset"
   ]
  },
  {
   "cell_type": "code",
   "execution_count": 3,
   "id": "e6c390b5",
   "metadata": {},
   "outputs": [],
   "source": [
    "train_df = pd.read_csv('imat2009_train_preprocessed.csv')\n",
    "test_df = pd.read_csv('imat2009_test_preprocessed.csv')"
   ]
  },
  {
   "cell_type": "code",
   "execution_count": 4,
   "id": "10017fd1",
   "metadata": {},
   "outputs": [],
   "source": [
    "x_train = train_df.drop(['rel_val', 'q_id'], axis=1).values\n",
    "y_train = train_df['rel_val'].values\n",
    "queries_train = train_df['q_id'].values\n",
    "\n",
    "x_test = test_df.drop(['rel_val', 'q_id'], axis=1).values\n",
    "y_test = test_df['rel_val'].values\n",
    "queries_test = test_df['q_id'].values"
   ]
  },
  {
   "cell_type": "markdown",
   "id": "c9903d16",
   "metadata": {},
   "source": [
    "# Dataset analysis"
   ]
  },
  {
   "cell_type": "markdown",
   "id": "83a7319e",
   "metadata": {},
   "source": [
    "Number of documents in training and testing datasets, respectively"
   ]
  },
  {
   "cell_type": "code",
   "execution_count": 5,
   "id": "cfcc30b6",
   "metadata": {},
   "outputs": [
    {
     "name": "stdout",
     "output_type": "stream",
     "text": [
      "77714 , 19576\n"
     ]
    }
   ],
   "source": [
    "num_train_documents = x_train.shape[0]\n",
    "num_test_documents = x_test.shape[0]\n",
    "print(num_train_documents, ',', num_test_documents)"
   ]
  },
  {
   "cell_type": "markdown",
   "id": "1bca9ba5",
   "metadata": {},
   "source": [
    "Number of features"
   ]
  },
  {
   "cell_type": "code",
   "execution_count": 6,
   "id": "b42f1187",
   "metadata": {},
   "outputs": [
    {
     "data": {
      "text/plain": [
       "245"
      ]
     },
     "execution_count": 6,
     "metadata": {},
     "output_type": "execute_result"
    }
   ],
   "source": [
    "x_train.shape[1]"
   ]
  },
  {
   "cell_type": "markdown",
   "id": "3aab8dfd",
   "metadata": {},
   "source": [
    "# Relevance labels statistics"
   ]
  },
  {
   "cell_type": "markdown",
   "id": "fb42ce02",
   "metadata": {},
   "source": [
    "0 - irrelevant, 4 - highly relevant. Table represents number of documents for each value."
   ]
  },
  {
   "cell_type": "code",
   "execution_count": 7,
   "id": "688114fa",
   "metadata": {},
   "outputs": [
    {
     "data": {
      "text/plain": [
       "dict_items([(1.0, 20086), (0.0, 25776), (2.0, 24424), (4.0, 952), (3.0, 1744), (0.5, 1982), (1.5, 1033), (0.25, 77), (1.33333, 110), (1.2, 3), (2.37037, 39), (0.666671, 340), (2.33333, 79), (0.333329, 268), (2.16049, 19), (2.5, 337), (2.87037, 26), (1.66667, 107), (2.12037, 4), (2.25, 19), (2.24074, 25), (0.2, 10), (1.6, 6), (0.8, 5), (0.6, 10), (0.875, 1), (2.66667, 31), (3.1625, 2), (1.75, 12), (0.75, 55), (2.61111, 4), (0.222229, 1), (0.4, 5), (1.25, 23), (1.97143, 2), (3.5, 16), (2.24691, 10), (2.16667, 1), (1.95239, 1), (1.4, 4), (3.66667, 5), (3.8, 2), (0.125, 1), (2.05556, 2), (3.33333, 4), (2.2, 5), (2.58025, 2), (1.16667, 2), (2.91358, 1), (2.07407, 3), (2.11729, 1), (3.25, 1), (2.375, 1), (3.21666, 1), (2.74074, 5), (2.12346, 3), (0.166671, 8), (0.833329, 5), (1.14286, 1), (3.53, 1), (3.4, 1), (2.75, 1), (3.58125, 1), (2.40741, 1), (0.583329, 1), (1.8, 1), (2.42857, 1), (2.0463, 1), (1.77143, 1), (3.75, 1), (0.888886, 1)])"
      ]
     },
     "execution_count": 7,
     "metadata": {},
     "output_type": "execute_result"
    }
   ],
   "source": [
    "from collections import Counter\n",
    "Counter(y_train).items()"
   ]
  },
  {
   "cell_type": "markdown",
   "id": "1ff679df",
   "metadata": {},
   "source": [
    "Number of queries in training and testing datasets, respectively"
   ]
  },
  {
   "cell_type": "code",
   "execution_count": 9,
   "id": "701c3e9a",
   "metadata": {},
   "outputs": [
    {
     "name": "stdout",
     "output_type": "stream",
     "text": [
      "7300 , 1824\n"
     ]
    }
   ],
   "source": [
    "num_train_queries = np.unique(queries_train).shape[0]\n",
    "num_test_queries = np.unique(queries_test).shape[0]\n",
    "print(num_train_queries, ',', num_test_queries)"
   ]
  },
  {
   "cell_type": "markdown",
   "id": "e6d0f429",
   "metadata": {},
   "source": [
    "# Creation of CatBoost pools"
   ]
  },
  {
   "cell_type": "code",
   "execution_count": 10,
   "id": "1d684b80",
   "metadata": {},
   "outputs": [],
   "source": [
    "train = Pool(\n",
    "    data=x_train,\n",
    "    label=y_train,\n",
    "    group_id=queries_train\n",
    ")\n",
    "\n",
    "test = Pool(\n",
    "    data=x_test,\n",
    "    label=y_test,\n",
    "    group_id=queries_test\n",
    ")"
   ]
  },
  {
   "cell_type": "markdown",
   "id": "faa70bf8",
   "metadata": {},
   "source": [
    "## Fitting model"
   ]
  },
  {
   "cell_type": "code",
   "execution_count": 11,
   "id": "a661ddd2",
   "metadata": {},
   "outputs": [],
   "source": [
    "default_parameters = {\n",
    "    'iterations': 2000,\n",
    "    'custom_metric': ['NDCG', 'PrecisionAt:top=10', 'PrecisionAt:top=20', 'MAP'],\n",
    "    'verbose': False,\n",
    "    'random_seed': 0,\n",
    "}\n",
    "\n",
    "parameters = {}"
   ]
  },
  {
   "cell_type": "code",
   "execution_count": 12,
   "id": "ca1be489",
   "metadata": {},
   "outputs": [],
   "source": [
    "def fit_model(loss_function, additional_params=None, train_pool=train, test_pool=test):\n",
    "    parameters = deepcopy(default_parameters)\n",
    "    parameters['loss_function'] = loss_function\n",
    "    parameters['train_dir'] = loss_function\n",
    "    \n",
    "    if additional_params is not None:\n",
    "        parameters.update(additional_params)\n",
    "        \n",
    "    model = CatBoostRanker(**parameters)\n",
    "    model.fit(train_pool, eval_set=test_pool, plot=True)\n",
    "    \n",
    "    return model"
   ]
  },
  {
   "cell_type": "code",
   "execution_count": 13,
   "id": "94656536",
   "metadata": {},
   "outputs": [
    {
     "data": {
      "application/vnd.jupyter.widget-view+json": {
       "model_id": "07a5404956a84a0ea0944508788e9efa",
       "version_major": 2,
       "version_minor": 0
      },
      "text/plain": [
       "MetricVisualizer(layout=Layout(align_self='stretch', height='500px'))"
      ]
     },
     "metadata": {},
     "output_type": "display_data"
    }
   ],
   "source": [
    "model = fit_model('YetiRankPairwise')"
   ]
  },
  {
   "cell_type": "code",
   "execution_count": 15,
   "id": "880231cf",
   "metadata": {},
   "outputs": [
    {
     "data": {
      "application/vnd.jupyter.widget-view+json": {
       "model_id": "fa94e872067940f2bfda7d50a1f7391d",
       "version_major": 2,
       "version_minor": 0
      },
      "text/plain": [
       "MetricVisualizer(layout=Layout(align_self='stretch', height='500px'))"
      ]
     },
     "metadata": {},
     "output_type": "display_data"
    },
    {
     "data": {
      "text/plain": [
       "<catboost.core.CatBoostRanker at 0x16b2cbcd0>"
      ]
     },
     "execution_count": 15,
     "metadata": {},
     "output_type": "execute_result"
    }
   ],
   "source": [
    "model2 = fit_model('PairLogitPairwise')"
   ]
  },
  {
   "cell_type": "code",
   "execution_count": 16,
   "id": "1a0a1b17",
   "metadata": {},
   "outputs": [
    {
     "data": {
      "application/vnd.jupyter.widget-view+json": {
       "model_id": "92a3f42d060f47bb97f1a88f26d23fa5",
       "version_major": 2,
       "version_minor": 0
      },
      "text/plain": [
       "MetricVisualizer(layout=Layout(align_self='stretch', height='500px'))"
      ]
     },
     "metadata": {},
     "output_type": "display_data"
    }
   ],
   "source": [
    "model3 = fit_model('QueryRMSE')"
   ]
  },
  {
   "cell_type": "code",
   "execution_count": 22,
   "id": "dd8768e6",
   "metadata": {},
   "outputs": [
    {
     "data": {
      "application/vnd.jupyter.widget-view+json": {
       "model_id": "ce0b01dc625843578d21ea796f4be54a",
       "version_major": 2,
       "version_minor": 0
      },
      "text/plain": [
       "MetricVisualizer(layout=Layout(align_self='stretch', height='500px'))"
      ]
     },
     "metadata": {},
     "output_type": "display_data"
    }
   ],
   "source": [
    "model4 = fit_model('PairLogit')"
   ]
  },
  {
   "cell_type": "code",
   "execution_count": 23,
   "id": "314d4838",
   "metadata": {},
   "outputs": [
    {
     "data": {
      "application/vnd.jupyter.widget-view+json": {
       "model_id": "f0f7a7cee56243bc88b89d4c15deff45",
       "version_major": 2,
       "version_minor": 0
      },
      "text/plain": [
       "MetricVisualizer(layout=Layout(align_self='stretch', height='500px'))"
      ]
     },
     "metadata": {},
     "output_type": "display_data"
    }
   ],
   "source": [
    "model5 = fit_model('YetiRank')"
   ]
  },
  {
   "cell_type": "code",
   "execution_count": 24,
   "id": "17aad3e7",
   "metadata": {},
   "outputs": [
    {
     "name": "stderr",
     "output_type": "stream",
     "text": [
      "/Users/rakhatm/miniforge3/envs/irenv/lib/python3.10/site-packages/catboost/core.py:6240: RuntimeWarning: Regression loss ('RMSE') ignores an important ranking parameter 'group_id'\n",
      "  warnings.warn(\"Regression loss ('{}') ignores an important ranking parameter 'group_id'\".format(loss_function), RuntimeWarning)\n"
     ]
    },
    {
     "data": {
      "application/vnd.jupyter.widget-view+json": {
       "model_id": "adb30dd13c92468c8246a14b32a97c74",
       "version_major": 2,
       "version_minor": 0
      },
      "text/plain": [
       "MetricVisualizer(layout=Layout(align_self='stretch', height='500px'))"
      ]
     },
     "metadata": {},
     "output_type": "display_data"
    }
   ],
   "source": [
    "model6 = fit_model('RMSE')"
   ]
  }
 ],
 "metadata": {
  "kernelspec": {
   "display_name": "Python 3 (ipykernel)",
   "language": "python",
   "name": "python3"
  },
  "language_info": {
   "codemirror_mode": {
    "name": "ipython",
    "version": 3
   },
   "file_extension": ".py",
   "mimetype": "text/x-python",
   "name": "python",
   "nbconvert_exporter": "python",
   "pygments_lexer": "ipython3",
   "version": "3.10.9"
  }
 },
 "nbformat": 4,
 "nbformat_minor": 5
}
